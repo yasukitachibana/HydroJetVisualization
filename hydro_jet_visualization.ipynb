{
 "cells": [
  {
   "cell_type": "markdown",
   "metadata": {},
   "source": [
    "# Import Libraries"
   ]
  },
  {
   "cell_type": "code",
   "execution_count": 1,
   "metadata": {},
   "outputs": [],
   "source": [
    "import yt\n",
    "import numpy as np\n",
    "import itertools\n",
    "from IPython.core.display import Image\n",
    "from yt.visualization.volume_rendering.api import Scene, VolumeSource, OpaqueSource, PointSource, LineSource"
   ]
  },
  {
   "cell_type": "markdown",
   "metadata": {},
   "source": [
    "# Paths of Data Files"
   ]
  },
  {
   "cell_type": "code",
   "execution_count": 2,
   "metadata": {},
   "outputs": [],
   "source": [
    "hyd_file_path = '/Users/yasukitachibana/Dropbox/Codes/JETSCAPE_V1_SRC_IN_PPM/build/profile_ev0_binary.dat'\n",
    "jet_file_path = '/Users/yasukitachibana/Dropbox/Codes/JETSCAPE_V1_SRC_OUT/build/final_parton_list_evolution_history_ev0.txt'"
   ]
  },
  {
   "cell_type": "markdown",
   "metadata": {},
   "source": [
    "# Load Hydro Profile"
   ]
  },
  {
   "cell_type": "code",
   "execution_count": null,
   "metadata": {},
   "outputs": [],
   "source": [
    "hyd_data = np.fromfile(hyd_file_path,  dtype=np.float32)\n",
    "hyd_data = hyd_data.reshape(-1, 16)\n",
    "\n",
    "t_h_list = np.unique(hyd_data[:, 0])\n",
    "x_h_list = np.unique(hyd_data[:, 1])\n",
    "y_h_list = np.unique(hyd_data[:, 2])\n",
    "z_h_list = np.unique(hyd_data[:, 3])\n",
    "\n",
    "dt_h = t_h_list[1]-t_h_list[0]\n",
    "\n",
    "n_t_h = len(t_h_list)\n",
    "n_x_h =  len(x_h_list)\n",
    "n_y_h = len(y_h_list)\n",
    "n_z_h = len(z_h_list)\n",
    "\n",
    "eden = np.zeros([n_t_h, n_x_h, n_y_h, n_z_h])\n",
    "eden_bcg = hyd_data[0, 9]\n",
    "\n",
    "for it, t in enumerate(t_h_list):\n",
    "    idx = (hyd_data[:, 0] == t)\n",
    "    hyd_at_t = hyd_data[idx, :]\n",
    "\n",
    "    igrid = 0\n",
    "    for ix, iy, iz in itertools.product(range(n_x_h),range(n_y_h),range(n_z_h)):\n",
    "        eden[it, ix, iy, iz] = hyd_at_t[igrid, 9]\n",
    "        igrid +=1\n",
    "\n",
    "del hyd_data"
   ]
  },
  {
   "cell_type": "markdown",
   "metadata": {},
   "source": [
    "# Load Jet Shower Evolution"
   ]
  },
  {
   "cell_type": "code",
   "execution_count": null,
   "metadata": {},
   "outputs": [],
   "source": [
    "jet_data = np.loadtxt(jet_file_path)\n",
    "t_particle_list = np.unique(jet_data[:, 0])"
   ]
  },
  {
   "cell_type": "markdown",
   "metadata": {},
   "source": [
    "# 3D Rendering for Hydro+Jet with yt project"
   ]
  },
  {
   "cell_type": "code",
   "execution_count": null,
   "metadata": {},
   "outputs": [],
   "source": [
    "for itp, tp in enumerate(t_particle_list):\n",
    "    idx_jet = (jet_data[:, 0] == tp)\n",
    "    jet_data_at_t = jet_data[idx_jet, :]\n",
    "\n",
    "    itm_list = np.where( (t_h_list <= tp) & (t_h_list > tp - dt_h) )\n",
    "    if itp == 0:\n",
    "        itm_list = np.where(t_h_list == tp)\n",
    "\n",
    "    itm = itm_list[0][0]\n",
    "    \n",
    "    ############################################################################################################\n",
    "    # Redering Part\n",
    "    ############################################################################################################\n",
    "    dat = dict(density=(eden[itm, :, :, :]))\n",
    "    bbox = np.array([[x_h_list[0], x_h_list[-1]], [y_h_list[0], y_h_list[-1]], [z_h_list[0], z_h_list[-1]]])\n",
    "    ds = yt.load_uniform_grid(dat, eden[itm, :, :, :].shape, bbox=bbox, nprocs=64)\n",
    "    \n",
    "    mi, ma = ds.all_data().quantities.extrema('density')\n",
    "    bounds = (mi.value,ma.value)\n",
    "    \n",
    "    sc = Scene()\n",
    "\n",
    "    HYD = VolumeSource(ds,field='density')\n",
    "    HYD.set_log(True)\n",
    "    HYD_tf = yt.ColorTransferFunction(np.log10(bounds))\n",
    "    \n",
    "    width = 0.00002*(np.log(bounds[1])-np.log(eden_bcg))\n",
    "    HYD_tf.add_gaussian(np.log10(eden_bcg), width, [0.61, 0.39, 0.0, 0])\n",
    "    HYD_tf.add_gaussian( 0.9*np.log10(eden_bcg) + 0.1*np.log10(bounds[1]) , width, [0.61, 0.39, 0.0, 0.1*0.1])\n",
    "    HYD_tf.add_gaussian( 0.8*np.log10(eden_bcg) + 0.2*np.log10(bounds[1]) , width, [0.61, 0.39, 0.0, 0.2*0.2])\n",
    "    HYD_tf.add_gaussian( 0.7*np.log10(eden_bcg) + 0.3*np.log10(bounds[1]) , width, [0.61, 0.39, 0.0, 0.3*0.3])\n",
    "    HYD_tf.add_gaussian( 0.6*np.log10(eden_bcg) + 0.4*np.log10(bounds[1]) , width, [0.61, 0.39, 0.0, 0.4*0.4])\n",
    "    HYD_tf.add_gaussian( 0.5*np.log10(eden_bcg) + 0.5*np.log10(bounds[1]) , width, [0.61, 0.39, 0.0, 0.5*0.5])\n",
    "    HYD_tf.add_gaussian( 0.4*np.log10(eden_bcg) + 0.6*np.log10(bounds[1]) , width, [0.61, 0.39, 0.0, 0.6*0.6])\n",
    "    HYD_tf.add_gaussian( 0.3*np.log10(eden_bcg) + 0.7*np.log10(bounds[1]) , width, [0.61, 0.39, 0.0, 0.7*0.7])\n",
    "    HYD_tf.add_gaussian( 0.2*np.log10(eden_bcg) + 0.8*np.log10(bounds[1]) , width, [0.61, 0.39, 0.0, 0.8*0.8])\n",
    "    HYD_tf.add_gaussian( 0.1*np.log10(eden_bcg) + 0.9*np.log10(bounds[1]) , width, [0.61, 0.39, 0.0, 0.9*0.9])\n",
    "    HYD_tf.add_gaussian(np.log10(bounds[1]), width, [0.61, 0.39, 0.0, 1.0])\n",
    "\n",
    "    width = 0.00002*(np.log(eden_bcg)-np.log(bounds[0]))\n",
    "    HYD_tf.add_gaussian(np.log10(eden_bcg), width, [0.0, 0.0, 1.0, 0])\n",
    "    HYD_tf.add_gaussian( 0.9*np.log10(eden_bcg) + 0.1*np.log10(bounds[0]) , width, [0.0, 0.0, 1.0, 0.1*0.1])\n",
    "    HYD_tf.add_gaussian( 0.8*np.log10(eden_bcg) + 0.2*np.log10(bounds[0]) , width, [0.0, 0.0, 1.0, 0.2*0.2])\n",
    "    HYD_tf.add_gaussian( 0.7*np.log10(eden_bcg) + 0.3*np.log10(bounds[0]) , width, [0.0, 0.0, 1.0, 0.3*0.3])\n",
    "    HYD_tf.add_gaussian( 0.6*np.log10(eden_bcg) + 0.4*np.log10(bounds[0]) , width, [0.0, 0.0, 1.0, 0.4*0.4])\n",
    "    HYD_tf.add_gaussian( 0.5*np.log10(eden_bcg) + 0.5*np.log10(bounds[0]) , width, [0.0, 0.0, 1.0, 0.5*0.5])\n",
    "    HYD_tf.add_gaussian( 0.4*np.log10(eden_bcg) + 0.6*np.log10(bounds[0]) , width, [0.0, 0.0, 1.0, 0.6*0.6])\n",
    "    HYD_tf.add_gaussian( 0.3*np.log10(eden_bcg) + 0.7*np.log10(bounds[0]) , width, [0.0, 0.0, 1.0, 0.7*0.7])\n",
    "    HYD_tf.add_gaussian( 0.2*np.log10(eden_bcg) + 0.8*np.log10(bounds[0]) , width, [0.0, 0.0, 1.0, 0.8*0.8])\n",
    "    HYD_tf.add_gaussian( 0.1*np.log10(eden_bcg) + 0.9*np.log10(bounds[0]) , width, [0.0, 0.0, 1.0, 0.9*0.9])\n",
    "    HYD_tf.add_gaussian(np.log10(bounds[0]), width, [0.0, 0.0, 0.0, 1.0])\n",
    "\n",
    "    HYD.tfh.tf = HYD_tf\n",
    "    \n",
    "    vertices = jet_data_at_t[:,5:8]\n",
    "    colors = np.ones([len(vertices[:,0]),4])\n",
    "    pid = jet_data_at_t[:,3]\n",
    "    \n",
    "    colors[:,0] = 0\n",
    "    colors[:,1] = 1\n",
    "    colors[:,2] = 1\n",
    "    colors[:,3] = 0.1    \n",
    "    \n",
    "    colors[pid==21,0] = 1\n",
    "    colors[pid==21,1] = 0\n",
    "    colors[pid==21,2] = 1\n",
    "    \n",
    "    colors[pid<0,0] = 1\n",
    "    colors[pid<0,1] = 1\n",
    "    colors[pid<0,2] = 0\n",
    "    \n",
    "    JET = PointSource(vertices, colors=colors, radii=3)\n",
    "    \n",
    "    sc.add_source(HYD)\n",
    "    sc.add_source(JET)\n",
    "\n",
    "    cam = sc.add_camera(ds, lens_type='perspective')\n",
    "    cam.resolution = [1000, 1000]\n",
    "\n",
    "    sc.camera.focus = ds.domain_center\n",
    "    sc.camera.position = [0.2, 0.2, 0.2]\n",
    "\n",
    "    sc.save('hyd_jet_'+str(tp)+'.png',sigma_clip=3.5)\n",
    "    sc.show()\n",
    "    \n",
    "    ############################################################################################################"
   ]
  },
  {
   "cell_type": "code",
   "execution_count": null,
   "metadata": {},
   "outputs": [],
   "source": []
  }
 ],
 "metadata": {
  "kernelspec": {
   "display_name": "Python 3",
   "language": "python",
   "name": "python3"
  },
  "language_info": {
   "codemirror_mode": {
    "name": "ipython",
    "version": 3
   },
   "file_extension": ".py",
   "mimetype": "text/x-python",
   "name": "python",
   "nbconvert_exporter": "python",
   "pygments_lexer": "ipython3",
   "version": "3.7.4"
  }
 },
 "nbformat": 4,
 "nbformat_minor": 2
}
